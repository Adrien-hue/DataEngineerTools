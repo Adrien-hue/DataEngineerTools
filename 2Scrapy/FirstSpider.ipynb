{
 "cells": [
  {
   "cell_type": "markdown",
   "metadata": {},
   "source": [
    "\n",
    "# Un scraping élémentaire\n",
    "\n",
    "Avant de rentrer dans les détails du framework, nous allons mettre en\n",
    "oeuvre un premier script permettant de récupérer l'information présente\n",
    "sur [la page web](http://evene.lefigaro.fr/citations/winston-churchill)\n",
    "recensant les citations de [Sir Winston\n",
    "Churchill](https://en.wikipedia.org/wiki/Winston_Churchill).\n",
    "\n",
    "**Exercice**\n",
    "\n",
    "Examiner le code source de cette page avec l'inspecteur de votre\n",
    "navigateur. Identifier les éléments contenant l'information recherchée,\n",
    "ici la chaîne de caractères contenant la citation proprement dite.\n",
    "\n",
    "## Le code source\n",
    "\n",
    "Le code utilisé est le suivant:"
   ]
  },
  {
   "cell_type": "code",
   "execution_count": 6,
   "metadata": {},
   "outputs": [],
   "source": [
    "# %load citations_churchill_spider1.py\n",
    "import scrapy\n",
    "\n",
    "class ChurchillQuotesSpider(scrapy.Spider):\n",
    "    name = \"citations de Churchill\"\n",
    "    start_urls = [\"http://evene.lefigaro.fr/citations/winston-churchill\",]\n",
    "\n",
    "    def parse(self, response):\n",
    "        for cit in response.xpath('//div[@class=\"figsco__quote__text\"]'):\n",
    "            text_value = cit.xpath('a/text()').extract_first()\n",
    "            yield { 'text' : text_value }"
   ]
  },
  {
   "cell_type": "markdown",
   "metadata": {},
   "source": [
    "## Le fonctionnement\n",
    "\n",
    "Le fonctionnement est le suivant:\n",
    "\n",
    "-   On importe le module [Scrapy](https://scrapy.org/) (3)\n",
    "-   et on définit une sous classe de `scrapy.Spider` (5)\n",
    "-   la variable `start_urls` contient la liste des pages à scraper (7)\n",
    "-   On redéfinit la méthode $parse$ dont la signature est définie dans\n",
    "    la classe mère (9)\n",
    "-   L'objet\n",
    "    [response](https://docs.scrapy.org/en/latest/topics/request-response.html#response-objects)\n",
    "    représente la réponse à la requête HTTP (l'attribut $text$ permet\n",
    "    d'accéder à son contenu). On recherche ensuite tous les containers\n",
    "    `<div>` identifiés dans l'exercice précédent. Ici la page est\n",
    "    particulièrement bien structurée et les citations disposent de leur\n",
    "    propre container, identifié par l'attribut `class` de valeur\n",
    "    `figsco__quote__text`. La sélection se fait par une expression\n",
    "    [XPath](https://en.wikipedia.org/wiki/XPath), un langage de\n",
    "    sélection de noeud dans un document XML (10). En langage naturel, la\n",
    "    requête pourrait se formuler : \"On recherche tous les containers\n",
    "    `<div>` dont la valeur de l'attribut `class` est égal à\n",
    "    `figsco__quote__text`\".\n",
    "-   Pour chaque résultat, on construit un dictionnaire dont la clé est\n",
    "    `text` et la valeur le contenu du lien `<a>`. Ce résultat est fourni\n",
    "    par un générateur ($yield$) (12).\n",
    "\n",
    "On lance le scraping depuis un terminal:"
   ]
  },
  {
   "cell_type": "code",
   "execution_count": 7,
   "metadata": {
    "scrolled": false
   },
   "outputs": [
    {
     "name": "stdout",
     "output_type": "stream",
     "text": [
      "2019-11-25 12:45:11 [scrapy.utils.log] INFO: Scrapy 1.8.0 started (bot: scrapybot)\n",
      "2019-11-25 12:45:11 [scrapy.utils.log] INFO: Versions: lxml 4.4.1.0, libxml2 2.9.9, cssselect 1.1.0, parsel 1.5.2, w3lib 1.21.0, Twisted 19.10.0, Python 3.7.3 (default, Mar 27 2019, 16:54:48) - [Clang 4.0.1 (tags/RELEASE_401/final)], pyOpenSSL 19.0.0 (OpenSSL 1.1.1d  10 Sep 2019), cryptography 2.8, Platform Darwin-18.6.0-x86_64-i386-64bit\n",
      "2019-11-25 12:45:11 [scrapy.crawler] INFO: Overridden settings: {'SPIDER_LOADER_WARN_ONLY': True}\n",
      "2019-11-25 12:45:11 [scrapy.extensions.telnet] INFO: Telnet Password: 3481d7b741b306d7\n",
      "2019-11-25 12:45:11 [scrapy.middleware] INFO: Enabled extensions:\n",
      "['scrapy.extensions.corestats.CoreStats',\n",
      " 'scrapy.extensions.telnet.TelnetConsole',\n",
      " 'scrapy.extensions.memusage.MemoryUsage',\n",
      " 'scrapy.extensions.logstats.LogStats']\n",
      "2019-11-25 12:45:12 [scrapy.middleware] INFO: Enabled downloader middlewares:\n",
      "['scrapy.downloadermiddlewares.httpauth.HttpAuthMiddleware',\n",
      " 'scrapy.downloadermiddlewares.downloadtimeout.DownloadTimeoutMiddleware',\n",
      " 'scrapy.downloadermiddlewares.defaultheaders.DefaultHeadersMiddleware',\n",
      " 'scrapy.downloadermiddlewares.useragent.UserAgentMiddleware',\n",
      " 'scrapy.downloadermiddlewares.retry.RetryMiddleware',\n",
      " 'scrapy.downloadermiddlewares.redirect.MetaRefreshMiddleware',\n",
      " 'scrapy.downloadermiddlewares.httpcompression.HttpCompressionMiddleware',\n",
      " 'scrapy.downloadermiddlewares.redirect.RedirectMiddleware',\n",
      " 'scrapy.downloadermiddlewares.cookies.CookiesMiddleware',\n",
      " 'scrapy.downloadermiddlewares.httpproxy.HttpProxyMiddleware',\n",
      " 'scrapy.downloadermiddlewares.stats.DownloaderStats']\n",
      "2019-11-25 12:45:12 [scrapy.middleware] INFO: Enabled spider middlewares:\n",
      "['scrapy.spidermiddlewares.httperror.HttpErrorMiddleware',\n",
      " 'scrapy.spidermiddlewares.offsite.OffsiteMiddleware',\n",
      " 'scrapy.spidermiddlewares.referer.RefererMiddleware',\n",
      " 'scrapy.spidermiddlewares.urllength.UrlLengthMiddleware',\n",
      " 'scrapy.spidermiddlewares.depth.DepthMiddleware']\n",
      "2019-11-25 12:45:12 [scrapy.middleware] INFO: Enabled item pipelines:\n",
      "[]\n",
      "2019-11-25 12:45:12 [scrapy.core.engine] INFO: Spider opened\n",
      "2019-11-25 12:45:12 [scrapy.extensions.logstats] INFO: Crawled 0 pages (at 0 pages/min), scraped 0 items (at 0 items/min)\n",
      "2019-11-25 12:45:12 [scrapy.extensions.telnet] INFO: Telnet console listening on 127.0.0.1:6023\n",
      "2019-11-25 12:45:12 [scrapy.core.engine] DEBUG: Crawled (200) <GET http://evene.lefigaro.fr/citations/winston-churchill> (referer: None)\n",
      "2019-11-25 12:45:12 [scrapy.core.scraper] DEBUG: Scraped from <200 http://evene.lefigaro.fr/citations/winston-churchill>\n",
      "{'text': '“Le vice inhérent au capitalisme consiste en une répartition inégale des richesses. La vertu inhérente au socialisme consiste en une égale répartition de la misère.”'}\n",
      "2019-11-25 12:45:12 [scrapy.core.scraper] DEBUG: Scraped from <200 http://evene.lefigaro.fr/citations/winston-churchill>\n",
      "{'text': \"“Un conciliateur c'est quelqu'un qui nourrit un crocodile en espérant qu'il sera le dernier à être mangé.”\"}\n",
      "2019-11-25 12:45:12 [scrapy.core.scraper] DEBUG: Scraped from <200 http://evene.lefigaro.fr/citations/winston-churchill>\n",
      "{'text': '“Il est une bonne chose de lire des livres de citations, car les citations lorsqu’elles sont gravées dans la mémoire vous donnent de bonnes pensées.”'}\n",
      "2019-11-25 12:45:12 [scrapy.core.scraper] DEBUG: Scraped from <200 http://evene.lefigaro.fr/citations/winston-churchill>\n",
      "{'text': \"“Je suis toujours prêt à apprendre, bien que je n'aime pas toujours qu'on me donne des leçons.”\"}\n",
      "2019-11-25 12:45:12 [scrapy.core.scraper] DEBUG: Scraped from <200 http://evene.lefigaro.fr/citations/winston-churchill>\n",
      "{'text': \"“C'est une belle chose d'être honnête, mais il est également important d'avoir raison.”\"}\n",
      "2019-11-25 12:45:12 [scrapy.core.scraper] DEBUG: Scraped from <200 http://evene.lefigaro.fr/citations/winston-churchill>\n",
      "{'text': '“J’ai retiré plus de choses de l’alcool que l’alcool ne m’en a retirées.”'}\n",
      "2019-11-25 12:45:12 [scrapy.core.scraper] DEBUG: Scraped from <200 http://evene.lefigaro.fr/citations/winston-churchill>\n",
      "{'text': \"“Pour s'améliorer, il faut changer. Donc, pour être parfait, il faut avoir changé souvent.”\"}\n",
      "2019-11-25 12:45:12 [scrapy.core.scraper] DEBUG: Scraped from <200 http://evene.lefigaro.fr/citations/winston-churchill>\n",
      "{'text': \"“On considère le chef d'entreprise comme un homme à abattre, ou une vache à traire. Peu voient en lui le cheval qui tire le char.”\"}\n",
      "2019-11-25 12:45:12 [scrapy.core.scraper] DEBUG: Scraped from <200 http://evene.lefigaro.fr/citations/winston-churchill>\n",
      "{'text': '“En Angleterre, tout est permis, sauf ce qui est interdit. En Allemagne, tout est interdit, sauf ce qui est permis. En France, tout est permis, même ce qui est interdit. En U.R.S.S., tout est interdit, même ce qui est permis.”'}\n",
      "2019-11-25 12:45:12 [scrapy.core.scraper] DEBUG: Scraped from <200 http://evene.lefigaro.fr/citations/winston-churchill>\n",
      "{'text': '“On vit de ce que l’on obtient.\\rOn construit sa vie sur ce que l’on donne.”'}\n",
      "2019-11-25 12:45:12 [scrapy.core.scraper] DEBUG: Scraped from <200 http://evene.lefigaro.fr/citations/winston-churchill>\n",
      "{'text': \"“Si deux hommes ont toujours la même opinion, l'un d'eux est de trop.”\"}\n",
      "2019-11-25 12:45:12 [scrapy.core.scraper] DEBUG: Scraped from <200 http://evene.lefigaro.fr/citations/winston-churchill>\n",
      "{'text': '“Plus vous saurez regarder loin dans le passé, plus vous verrez loin dans le futur.”'}\n",
      "2019-11-25 12:45:12 [scrapy.core.scraper] DEBUG: Scraped from <200 http://evene.lefigaro.fr/citations/winston-churchill>\n",
      "{'text': '“L’Angleterre s’écroule dans l’ordre, et la France se relève dans le désordre.”'}\n",
      "2019-11-25 12:45:12 [scrapy.core.scraper] DEBUG: Scraped from <200 http://evene.lefigaro.fr/citations/winston-churchill>\n",
      "{'text': \"“En avalant les méchantes paroles qu'on ne profère pas, on ne s'est jamais abîmé l'estomac.”\"}\n",
      "2019-11-25 12:45:12 [scrapy.core.scraper] DEBUG: Scraped from <200 http://evene.lefigaro.fr/citations/winston-churchill>\n",
      "{'text': '“Comité : Un groupe de personnes incapables de faire quoi que ce soit par elles-mêmes qui décident collectivement que rien ne peut être fait !”'}\n",
      "2019-11-25 12:45:12 [scrapy.core.scraper] DEBUG: Scraped from <200 http://evene.lefigaro.fr/citations/winston-churchill>\n",
      "{'text': \"Les mots sont comme les sacs : ils prennent la forme de ce qu'on met dedans.\"}\n",
      "2019-11-25 12:45:12 [scrapy.core.engine] INFO: Closing spider (finished)\n",
      "2019-11-25 12:45:12 [scrapy.statscollectors] INFO: Dumping Scrapy stats:\n",
      "{'downloader/request_bytes': 243,\n",
      " 'downloader/request_count': 1,\n",
      " 'downloader/request_method_count/GET': 1,\n",
      " 'downloader/response_bytes': 15105,\n",
      " 'downloader/response_count': 1,\n",
      " 'downloader/response_status_count/200': 1,\n",
      " 'elapsed_time_seconds': 0.185773,\n",
      " 'finish_reason': 'finished',\n",
      " 'finish_time': datetime.datetime(2019, 11, 25, 11, 45, 12, 222580),\n",
      " 'item_scraped_count': 16,\n",
      " 'log_count/DEBUG': 17,\n",
      " 'log_count/INFO': 10,\n",
      " 'memusage/max': 50630656,\n",
      " 'memusage/startup': 50630656,\n",
      " 'response_received_count': 1,\n",
      " 'scheduler/dequeued': 1,\n",
      " 'scheduler/dequeued/memory': 1,\n",
      " 'scheduler/enqueued': 1,\n",
      " 'scheduler/enqueued/memory': 1,\n",
      " 'start_time': datetime.datetime(2019, 11, 25, 11, 45, 12, 36807)}\n",
      "2019-11-25 12:45:12 [scrapy.core.engine] INFO: Spider closed (finished)\n"
     ]
    }
   ],
   "source": [
    "!scrapy runspider citations_churchill_spider1.py"
   ]
  },
  {
   "cell_type": "markdown",
   "metadata": {},
   "source": [
    "On y trouve des informations sur les paramètres\n",
    "utilisés:"
   ]
  },
  {
   "cell_type": "code",
   "execution_count": null,
   "metadata": {},
   "outputs": [],
   "source": [
    "2018-01-10 17:21:05 [scrapy.utils.log] INFO: Scrapy 1.4.0 started (bot: scrapybot)\n",
    "2018-01-10 17:21:05 [scrapy.utils.log] INFO: Overridden settings: {'SPIDER_LOADER_WARN_ONLY': True}"
   ]
  },
  {
   "cell_type": "markdown",
   "metadata": {},
   "source": [
    "les\n",
    "[extensions](https://docs.scrapy.org/en/latest/topics/extensions.html)\n",
    "...:"
   ]
  },
  {
   "cell_type": "code",
   "execution_count": null,
   "metadata": {},
   "outputs": [],
   "source": [
    "2018-01-10 17:21:05 [scrapy.middleware] INFO: Enabled extensions:\n",
    "['scrapy.extensions.corestats.CoreStats',\n",
    "'scrapy.extensions.telnet.TelnetConsole',\n",
    "'scrapy.extensions.logstats.LogStats']"
   ]
  },
  {
   "cell_type": "markdown",
   "metadata": {},
   "source": [
    "[Les composants middleware\n",
    "downloader](https://docs.scrapy.org/en/latest/topics/downloader-middleware.html)\n",
    "... :"
   ]
  },
  {
   "cell_type": "code",
   "execution_count": null,
   "metadata": {},
   "outputs": [],
   "source": [
    "2018-01-10 17:21:05 [scrapy.middleware] INFO: Enabled downloader middlewares:\n",
    "['scrapy.downloadermiddlewares.httpauth.HttpAuthMiddleware',\n",
    "'scrapy.downloadermiddlewares.downloadtimeout.DownloadTimeoutMiddleware',\n",
    "'scrapy.downloadermiddlewares.defaultheaders.DefaultHeadersMiddleware',\n",
    "'scrapy.downloadermiddlewares.useragent.UserAgentMiddleware',\n",
    "'scrapy.downloadermiddlewares.retry.RetryMiddleware',\n",
    "'scrapy.downloadermiddlewares.redirect.MetaRefreshMiddleware',\n",
    "'scrapy.downloadermiddlewares.httpcompression.HttpCompressionMiddleware',\n",
    "'scrapy.downloadermiddlewares.redirect.RedirectMiddleware',\n",
    "'scrapy.downloadermiddlewares.cookies.CookiesMiddleware',\n",
    "'scrapy.downloadermiddlewares.httpproxy.HttpProxyMiddleware',\n",
    "'scrapy.downloadermiddlewares.stats.DownloaderStats']"
   ]
  },
  {
   "cell_type": "markdown",
   "metadata": {},
   "source": [
    "Idem pour [les composants middleware\n",
    "spider](https://docs.scrapy.org/en/latest/topics/spider-middleware.html)\n",
    "...:"
   ]
  },
  {
   "cell_type": "code",
   "execution_count": null,
   "metadata": {},
   "outputs": [],
   "source": [
    "2018-01-10 17:21:05 [scrapy.middleware] INFO: Enabled spider middlewares:\n",
    "['scrapy.spidermiddlewares.httperror.HttpErrorMiddleware',\n",
    "'scrapy.spidermiddlewares.offsite.OffsiteMiddleware',\n",
    "'scrapy.spidermiddlewares.referer.RefererMiddleware',\n",
    "'scrapy.spidermiddlewares.urllength.UrlLengthMiddleware',\n",
    "'scrapy.spidermiddlewares.depth.DepthMiddleware']"
   ]
  },
  {
   "cell_type": "markdown",
   "metadata": {},
   "source": [
    "Aucun\n",
    "[pipeline](https://docs.scrapy.org/en/latest/topics/item-pipeline.html)\n",
    "n'est activé :"
   ]
  },
  {
   "cell_type": "code",
   "execution_count": null,
   "metadata": {},
   "outputs": [],
   "source": [
    "2018-01-10 17:21:05 [scrapy.middleware] INFO: Enabled item pipelines:\n",
    "[]"
   ]
  },
  {
   "cell_type": "markdown",
   "metadata": {},
   "source": [
    "**Exercice**\n",
    "\n",
    "Identifier la position des [composants middleware\n",
    "downloader](https://docs.scrapy.org/en/latest/topics/downloader-middleware.html),\n",
    "des [composants middleware\n",
    "spider](https://docs.scrapy.org/en/latest/topics/spider-middleware.html)\n",
    "et du\n",
    "[pipeline](https://docs.scrapy.org/en/latest/topics/item-pipeline.html)\n",
    "dans $l'architecture <Introduction>$\n",
    "\n",
    "L'exécution du scraping proprement dit débute :"
   ]
  },
  {
   "cell_type": "code",
   "execution_count": null,
   "metadata": {},
   "outputs": [],
   "source": [
    "2018-01-10 17:21:05 [scrapy.core.engine] INFO: Spider opened\n",
    "2018-01-10 17:21:05 [scrapy.extensions.logstats] INFO: Crawled 0 pages (at 0 pages/min), scraped 0 items (at 0 items/min)\n",
    "2018-01-10 17:21:05 [scrapy.extensions.telnet] DEBUG: Telnet console listening on 127.0.0.1:6023"
   ]
  },
  {
   "cell_type": "markdown",
   "metadata": {},
   "source": [
    "La première URL est poussée par le scheduler:"
   ]
  },
  {
   "cell_type": "code",
   "execution_count": null,
   "metadata": {},
   "outputs": [],
   "source": [
    "2018-01-10 17:21:05 [scrapy.core.engine] DEBUG: Crawled (200) <GET http://evene.lefigaro.fr/citations/winston-churchill> (referer: None)"
   ]
  },
  {
   "cell_type": "markdown",
   "metadata": {},
   "source": [
    "## Les résultats\n",
    "\n",
    "Les résultats sont fournis par le générateur défini dans la méthode\n",
    "$parse$ dans un dictionnaire. Ils contiennent le texte des citations\n",
    "dans la valeur de la clé `text` :"
   ]
  },
  {
   "cell_type": "code",
   "execution_count": null,
   "metadata": {},
   "outputs": [],
   "source": [
    "2018-01-10 17:21:05 [scrapy.core.scraper] DEBUG: Scraped from <200 http://evene.lefigaro.fr/citations/winston-churchill>\n",
    "{'text': '“Le vice inhérent au capitalisme consiste en une répartition inégale des richesses. La vertu inhérente au socialisme consiste en une égale répartition de la misère.”'}\n",
    "2018-01-10 17:21:05 [scrapy.core.scraper] DEBUG: Scraped from <200 http://evene.lefigaro.fr/citations/winston-churchill>\n",
    "{'text': \"Faire le bien, éviter le mal, c'est ça le paradis.\"}"
   ]
  },
  {
   "cell_type": "markdown",
   "metadata": {},
   "source": [
    "## Les statistiques\n",
    "\n",
    "Une fois le scraping effectué, quelques statistiques sont affichées sur\n",
    "le terminal:"
   ]
  },
  {
   "cell_type": "code",
   "execution_count": null,
   "metadata": {},
   "outputs": [],
   "source": [
    "2018-01-10 17:21:05 [scrapy.core.engine] INFO: Closing spider (finished)\n",
    "2018-01-10 17:21:05 [scrapy.statscollectors] INFO: Dumping Scrapy stats:\n",
    "{'downloader/request_bytes': 242,\n",
    "'downloader/request_count': 1,\n",
    "'downloader/request_method_count/GET': 1,\n",
    "'downloader/response_bytes': 17435,\n",
    "'downloader/response_count': 1,\n",
    "'downloader/response_status_count/200': 1,\n",
    "'finish_reason': 'finished',\n",
    "'finish_time': datetime.datetime(2018, 1, 10, 16, 21, 5, 858347),\n",
    "'item_scraped_count': 16,\n",
    "'log_count/DEBUG': 18,\n",
    "'log_count/INFO': 7,\n",
    "'response_received_count': 1,\n",
    "'scheduler/dequeued': 1,\n",
    "'scheduler/dequeued/memory': 1,\n",
    "'scheduler/enqueued': 1,\n",
    "'scheduler/enqueued/memory': 1,\n",
    "'start_time': datetime.datetime(2018, 1, 10, 16, 21, 5, 645347)}\n",
    "2018-01-10 17:21:05 [scrapy.core.engine] INFO: Spider closed (finished)"
   ]
  },
  {
   "cell_type": "markdown",
   "metadata": {},
   "source": [
    "On observe notamment que notre code permet de récupérer la taille de la\n",
    "page web (17435 bytes), le temps d'exécution à partir des valeurs\n",
    "`finish_time` et `start_time`, le nombre d'items scrapés (16), etc...\n",
    "\n",
    "**Exercice**\n",
    "\n",
    "Les citations extraites sont elles toutes de [Sir Winston\n",
    "Churchill](https://en.wikipedia.org/wiki/Winston_Churchill) ? Il sera\n",
    "peut être nécessaire de modifier le sélecteur XPath. Nous verrons ça\n",
    "lorsque il faudra récupérer les données relative à l'auteur.\n",
    "\n",
    "## Modifier les données\n",
    "\n",
    "Il est parfois nécessaire de faire un traitement sur les données\n",
    "scrapées, pour ajouter ou retirer de l'information.\n",
    "\n",
    "**Exercice**\n",
    "\n",
    "Retirer les caractères `“` et `”` qui délimitent la citation. Ces\n",
    "caractères sont identifiés en Unicode comme [LEFT DOUBLE QUOTATION\n",
    "MARK](http://www.fileformat.info/info/unicode/char/201c/index.htm) et\n",
    "[RIGHT DOUBLE QUOTATION\n",
    "MARK](http://www.fileformat.info/info/unicode/char/201d/index.htm).\n",
    "\n",
    "## Plus de données\n",
    "\n",
    "Il est souvent nécessaire de récupérer plusieurs informations relatives\n",
    "à un même item. Dans cet exemple, il est judicieux d'associer à la\n",
    "citation le nom de son auteur, en allant chercher cette information au\n",
    "plus près du texte lui même.\n",
    "\n",
    "**Exercice**\n",
    "\n",
    "Examiner le code source de la page web et identifier la structuration de\n",
    "la donnée associée à l'auteur. En déduire l'expression XPath permettant\n",
    "de la récupérer. S'assurer que seules les citations de [Sir Winston\n",
    "Churchill](https://en.wikipedia.org/wiki/Winston_Churchill) sont\n",
    "extraites. Ajouter une clé `author` au dictionnaire retourné par le\n",
    "$yield$ dont la valeur est précisément la chaîne de caractères contenant\n",
    "l'auteur.\n",
    "\n",
    "Un exemple de dictionnaire retourné:"
   ]
  },
  {
   "cell_type": "code",
   "execution_count": null,
   "metadata": {},
   "outputs": [],
   "source": [
    "{   'text': \"“Si deux hommes ont toujours la même opinion, l'un d'eux est de trop.”\", \n",
    "    'author': 'Winston Churchill'}"
   ]
  },
  {
   "cell_type": "markdown",
   "metadata": {},
   "source": [
    "Pour lancer l'exécution de la spider :\n",
    "\n",
    "> \\$ scrapy runspider spiders/citations\\_churchill\\_spider2.py\n",
    "\n",
    "On peut aussi vouloir stocker les données extraites :\n",
    "\n",
    "> \\$ scrapy runspider spiders/citations\\_churchill\\_spider2.py -o\n",
    "> data/citation.json -t json"
   ]
  }
 ],
 "metadata": {
  "kernelspec": {
   "display_name": "Python 3",
   "language": "python",
   "name": "python3"
  },
  "language_info": {
   "codemirror_mode": {
    "name": "ipython",
    "version": 3
   },
   "file_extension": ".py",
   "mimetype": "text/x-python",
   "name": "python",
   "nbconvert_exporter": "python",
   "pygments_lexer": "ipython3",
   "version": "3.7.3"
  }
 },
 "nbformat": 4,
 "nbformat_minor": 2
}
